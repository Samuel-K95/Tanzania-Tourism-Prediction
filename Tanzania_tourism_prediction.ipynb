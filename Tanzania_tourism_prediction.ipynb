{
  "metadata": {
    "kernelspec": {
      "language": "python",
      "display_name": "Python 3",
      "name": "python3"
    },
    "language_info": {
      "name": "python",
      "version": "3.10.14",
      "mimetype": "text/x-python",
      "codemirror_mode": {
        "name": "ipython",
        "version": 3
      },
      "pygments_lexer": "ipython3",
      "nbconvert_exporter": "python",
      "file_extension": ".py"
    },
    "kaggle": {
      "accelerator": "none",
      "dataSources": [
        {
          "sourceId": 7632201,
          "sourceType": "datasetVersion",
          "datasetId": 4447231
        }
      ],
      "dockerImageVersionId": 30804,
      "isInternetEnabled": true,
      "language": "python",
      "sourceType": "notebook",
      "isGpuEnabled": false
    },
    "colab": {
      "provenance": [],
      "include_colab_link": true
    }
  },
  "nbformat_minor": 0,
  "nbformat": 4,
  "cells": [
    {
      "cell_type": "markdown",
      "metadata": {
        "id": "view-in-github",
        "colab_type": "text"
      },
      "source": [
        "<a href=\"https://colab.research.google.com/github/Samuel-K95/Tanzania-Tourism-Prediction/blob/main/Tanzania_tourism_prediction.ipynb\" target=\"_parent\"><img src=\"https://colab.research.google.com/assets/colab-badge.svg\" alt=\"Open In Colab\"/></a>"
      ]
    },
    {
      "source": [
        "# IMPORTANT: RUN THIS CELL IN ORDER TO IMPORT YOUR KAGGLE DATA SOURCES,\n",
        "# THEN FEEL FREE TO DELETE THIS CELL.\n",
        "# NOTE: THIS NOTEBOOK ENVIRONMENT DIFFERS FROM KAGGLE'S PYTHON\n",
        "# ENVIRONMENT SO THERE MAY BE MISSING LIBRARIES USED BY YOUR\n",
        "# NOTEBOOK.\n",
        "import kagglehub\n",
        "alfredkondoro_tanzania_tourism_prediction_zindi_africa_path = kagglehub.dataset_download('alfredkondoro/tanzania-tourism-prediction-zindi-africa')\n",
        "\n",
        "print('Data source import complete.')\n"
      ],
      "metadata": {
        "id": "L3pZU6NY_Qw-",
        "outputId": "87bd8777-7136-4905-82fc-a34d8a3622a1",
        "colab": {
          "base_uri": "https://localhost:8080/"
        }
      },
      "cell_type": "code",
      "outputs": [
        {
          "output_type": "stream",
          "name": "stdout",
          "text": [
            "Warning: Looks like you're using an outdated `kagglehub` version (installed: 0.3.5), please consider upgrading to the latest version (0.3.6).\n",
            "Downloading from https://www.kaggle.com/api/v1/datasets/download/alfredkondoro/tanzania-tourism-prediction-zindi-africa?dataset_version_number=1...\n"
          ]
        },
        {
          "output_type": "stream",
          "name": "stderr",
          "text": [
            "100%|██████████| 120k/120k [00:00<00:00, 37.1MB/s]"
          ]
        },
        {
          "output_type": "stream",
          "name": "stdout",
          "text": [
            "Extracting files...\n",
            "Data source import complete.\n"
          ]
        },
        {
          "output_type": "stream",
          "name": "stderr",
          "text": [
            "\n"
          ]
        }
      ],
      "execution_count": 2
    },
    {
      "cell_type": "code",
      "source": [
        "from google.colab import drive\n",
        "drive.mount('/content/drive')"
      ],
      "metadata": {
        "colab": {
          "base_uri": "https://localhost:8080/"
        },
        "id": "YUgFRp3sgumh",
        "outputId": "9242da31-3d16-4fbb-b880-b516e3ac6658"
      },
      "execution_count": 3,
      "outputs": [
        {
          "output_type": "stream",
          "name": "stdout",
          "text": [
            "Drive already mounted at /content/drive; to attempt to forcibly remount, call drive.mount(\"/content/drive\", force_remount=True).\n"
          ]
        }
      ]
    },
    {
      "cell_type": "code",
      "source": [
        "!pip -q --disable-pip-version-check install mplcyberpunk\n",
        "!pip install catboost"
      ],
      "metadata": {
        "trusted": true,
        "execution": {
          "iopub.status.busy": "2024-12-13T08:18:07.768367Z",
          "iopub.execute_input": "2024-12-13T08:18:07.76876Z",
          "iopub.status.idle": "2024-12-13T08:18:18.989933Z",
          "shell.execute_reply.started": "2024-12-13T08:18:07.768725Z",
          "shell.execute_reply": "2024-12-13T08:18:18.988459Z"
        },
        "id": "KI9U4-W2_QxK",
        "outputId": "72b9b0cb-ca6f-4654-9ada-5520b202d1bf",
        "colab": {
          "base_uri": "https://localhost:8080/"
        }
      },
      "outputs": [
        {
          "output_type": "stream",
          "name": "stdout",
          "text": [
            "Collecting catboost\n",
            "  Downloading catboost-1.2.7-cp310-cp310-manylinux2014_x86_64.whl.metadata (1.2 kB)\n",
            "Requirement already satisfied: graphviz in /usr/local/lib/python3.10/dist-packages (from catboost) (0.20.3)\n",
            "Requirement already satisfied: matplotlib in /usr/local/lib/python3.10/dist-packages (from catboost) (3.8.0)\n",
            "Requirement already satisfied: numpy<2.0,>=1.16.0 in /usr/local/lib/python3.10/dist-packages (from catboost) (1.26.4)\n",
            "Requirement already satisfied: pandas>=0.24 in /usr/local/lib/python3.10/dist-packages (from catboost) (2.2.2)\n",
            "Requirement already satisfied: scipy in /usr/local/lib/python3.10/dist-packages (from catboost) (1.13.1)\n",
            "Requirement already satisfied: plotly in /usr/local/lib/python3.10/dist-packages (from catboost) (5.24.1)\n",
            "Requirement already satisfied: six in /usr/local/lib/python3.10/dist-packages (from catboost) (1.17.0)\n",
            "Requirement already satisfied: python-dateutil>=2.8.2 in /usr/local/lib/python3.10/dist-packages (from pandas>=0.24->catboost) (2.8.2)\n",
            "Requirement already satisfied: pytz>=2020.1 in /usr/local/lib/python3.10/dist-packages (from pandas>=0.24->catboost) (2024.2)\n",
            "Requirement already satisfied: tzdata>=2022.7 in /usr/local/lib/python3.10/dist-packages (from pandas>=0.24->catboost) (2024.2)\n",
            "Requirement already satisfied: contourpy>=1.0.1 in /usr/local/lib/python3.10/dist-packages (from matplotlib->catboost) (1.3.1)\n",
            "Requirement already satisfied: cycler>=0.10 in /usr/local/lib/python3.10/dist-packages (from matplotlib->catboost) (0.12.1)\n",
            "Requirement already satisfied: fonttools>=4.22.0 in /usr/local/lib/python3.10/dist-packages (from matplotlib->catboost) (4.55.3)\n",
            "Requirement already satisfied: kiwisolver>=1.0.1 in /usr/local/lib/python3.10/dist-packages (from matplotlib->catboost) (1.4.7)\n",
            "Requirement already satisfied: packaging>=20.0 in /usr/local/lib/python3.10/dist-packages (from matplotlib->catboost) (24.2)\n",
            "Requirement already satisfied: pillow>=6.2.0 in /usr/local/lib/python3.10/dist-packages (from matplotlib->catboost) (11.0.0)\n",
            "Requirement already satisfied: pyparsing>=2.3.1 in /usr/local/lib/python3.10/dist-packages (from matplotlib->catboost) (3.2.0)\n",
            "Requirement already satisfied: tenacity>=6.2.0 in /usr/local/lib/python3.10/dist-packages (from plotly->catboost) (9.0.0)\n",
            "Downloading catboost-1.2.7-cp310-cp310-manylinux2014_x86_64.whl (98.7 MB)\n",
            "\u001b[2K   \u001b[90m━━━━━━━━━━━━━━━━━━━━━━━━━━━━━━━━━━━━━━━━\u001b[0m \u001b[32m98.7/98.7 MB\u001b[0m \u001b[31m7.1 MB/s\u001b[0m eta \u001b[36m0:00:00\u001b[0m\n",
            "\u001b[?25hInstalling collected packages: catboost\n",
            "Successfully installed catboost-1.2.7\n"
          ]
        }
      ],
      "execution_count": 4
    },
    {
      "cell_type": "code",
      "source": [
        "import numpy as np\n",
        "import pandas as pd\n",
        "\n",
        "from catboost import CatBoostRegressor, Pool\n",
        "from xgboost import XGBRegressor\n",
        "from sklearn.metrics import mean_squared_error\n",
        "from sklearn.metrics import mean_absolute_error\n",
        "from sklearn.model_selection import train_test_split\n",
        "\n",
        "import matplotlib.pyplot as plt\n",
        "import matplotlib as mp\n",
        "import seaborn as sns\n",
        "\n",
        "import mplcyberpunk\n",
        "plt.style.use('cyberpunk')\n",
        "from termcolor import colored"
      ],
      "metadata": {
        "_uuid": "8f2839f25d086af736a60e9eeb907d3b93b6e0e5",
        "_cell_guid": "b1076dfc-b9ad-4769-8c92-a6c4dae69d19",
        "trusted": true,
        "execution": {
          "iopub.status.busy": "2024-12-13T08:25:55.996688Z",
          "iopub.execute_input": "2024-12-13T08:25:55.997098Z",
          "iopub.status.idle": "2024-12-13T08:25:56.003211Z",
          "shell.execute_reply.started": "2024-12-13T08:25:55.997067Z",
          "shell.execute_reply": "2024-12-13T08:25:56.002166Z"
        },
        "id": "nyieLO5X_QxM"
      },
      "outputs": [],
      "execution_count": 5
    },
    {
      "cell_type": "markdown",
      "source": [],
      "metadata": {
        "id": "qiVK3YrPUkoJ"
      }
    },
    {
      "cell_type": "code",
      "source": [
        "PATH = \"/content/drive/MyDrive/Tanzania Tourism\""
      ],
      "metadata": {
        "trusted": true,
        "execution": {
          "iopub.status.busy": "2024-12-13T08:18:27.837452Z",
          "iopub.execute_input": "2024-12-13T08:18:27.837985Z",
          "iopub.status.idle": "2024-12-13T08:18:27.843031Z",
          "shell.execute_reply.started": "2024-12-13T08:18:27.837944Z",
          "shell.execute_reply": "2024-12-13T08:18:27.841768Z"
        },
        "id": "TDaPiXgo_QxN"
      },
      "outputs": [],
      "execution_count": 6
    },
    {
      "cell_type": "code",
      "source": [
        "train = pd.read_csv(PATH+\"/Train.csv\")\n",
        "test = pd.read_csv(PATH+\"/Test.csv\")\n",
        "ss = pd.read_csv(PATH+\"/SampleSubmission.csv\")\n",
        "vd = pd.read_csv(PATH+\"/VariableDefinitions.csv\")\n",
        "\n",
        "\n",
        "normalized_min_max = np.log1p(train['total_cost'])\n",
        "train['total_cost'] = normalized_min_max"
      ],
      "metadata": {
        "trusted": true,
        "execution": {
          "iopub.status.busy": "2024-12-13T08:18:29.156692Z",
          "iopub.execute_input": "2024-12-13T08:18:29.157051Z",
          "iopub.status.idle": "2024-12-13T08:18:29.209593Z",
          "shell.execute_reply.started": "2024-12-13T08:18:29.15702Z",
          "shell.execute_reply": "2024-12-13T08:18:29.208578Z"
        },
        "id": "yVuAh6qE_QxO"
      },
      "outputs": [],
      "execution_count": 7
    },
    {
      "cell_type": "code",
      "source": [
        "train[train['travel_with'] == 'Alone']"
      ],
      "metadata": {
        "colab": {
          "base_uri": "https://localhost:8080/",
          "height": 790
        },
        "id": "mPdRsXLoWyLJ",
        "outputId": "b5bc52d5-a10c-4bcd-df04-eca90e37f0cb"
      },
      "execution_count": 8,
      "outputs": [
        {
          "output_type": "execute_result",
          "data": {
            "text/plain": [
              "             ID                   country age_group travel_with  total_female  \\\n",
              "2     tour_1000            UNITED KINGDOM     25-44       Alone           0.0   \n",
              "6     tour_1007              SOUTH AFRICA     45-64       Alone           0.0   \n",
              "8      tour_101                   NIGERIA     25-44       Alone           0.0   \n",
              "9     tour_1011                     INDIA     25-44       Alone           1.0   \n",
              "14    tour_1018                MOZAMBIQUE     25-44       Alone           0.0   \n",
              "...         ...                       ...       ...         ...           ...   \n",
              "4795   tour_982                  THAILAND     25-44       Alone           1.0   \n",
              "4796   tour_983              SOUTH AFRICA     25-44       Alone           0.0   \n",
              "4797   tour_984            UNITED KINGDOM     25-44       Alone           1.0   \n",
              "4799   tour_986  UNITED STATES OF AMERICA       65+       Alone           1.0   \n",
              "4804   tour_993                       UAE     45-64       Alone           0.0   \n",
              "\n",
              "      total_male                         purpose      main_activity  \\\n",
              "2            1.0  Visiting Friends and Relatives   Cultural tourism   \n",
              "6            1.0                        Business  Mountain climbing   \n",
              "8            1.0            Leisure and Holidays   Cultural tourism   \n",
              "9            0.0                        Business   Wildlife tourism   \n",
              "14           1.0  Visiting Friends and Relatives      Beach tourism   \n",
              "...          ...                             ...                ...   \n",
              "4795         0.0         Meetings and Conference  Mountain climbing   \n",
              "4796         1.0         Meetings and Conference  Mountain climbing   \n",
              "4797         0.0            Leisure and Holidays      Beach tourism   \n",
              "4799         0.0            Leisure and Holidays   Wildlife tourism   \n",
              "4804         1.0                        Business    Hunting tourism   \n",
              "\n",
              "                       info_source tour_arrangement  ... package_transport_tz  \\\n",
              "2               Friends, relatives      Independent  ...                   No   \n",
              "6               Friends, relatives      Independent  ...                   No   \n",
              "8     Travel, agent, tour operator      Independent  ...                   No   \n",
              "9     Travel, agent, tour operator      Independent  ...                   No   \n",
              "14              Friends, relatives      Independent  ...                   No   \n",
              "...                            ...              ...  ...                  ...   \n",
              "4795                        others      Independent  ...                   No   \n",
              "4796  Travel, agent, tour operator      Independent  ...                   No   \n",
              "4797            Friends, relatives      Independent  ...                   No   \n",
              "4799  Travel, agent, tour operator     Package Tour  ...                  Yes   \n",
              "4804            Friends, relatives      Independent  ...                   No   \n",
              "\n",
              "     package_sightseeing package_guided_tour package_insurance night_mainland  \\\n",
              "2                     No                  No                No            1.0   \n",
              "6                     No                  No                No            9.0   \n",
              "8                     No                  No                No            4.0   \n",
              "9                     No                  No                No            5.0   \n",
              "14                    No                  No                No            2.0   \n",
              "...                  ...                 ...               ...            ...   \n",
              "4795                  No                  No                No            5.0   \n",
              "4796                  No                  No                No            3.0   \n",
              "4797                  No                  No                No            3.0   \n",
              "4799                 Yes                 Yes               Yes           19.0   \n",
              "4804                  No                  No                No            2.0   \n",
              "\n",
              "     night_zanzibar payment_mode  first_trip_tz       most_impressing  \\\n",
              "2              31.0         Cash             No  Excellent Experience   \n",
              "6               0.0         Cash            Yes       Friendly People   \n",
              "8               0.0         Cash            Yes                   NaN   \n",
              "9               0.0  Credit Card            Yes       Friendly People   \n",
              "14              0.0         Cash            Yes              Wildlife   \n",
              "...             ...          ...            ...                   ...   \n",
              "4795            0.0         Cash            Yes       Friendly People   \n",
              "4796            0.0         Cash            Yes       Friendly People   \n",
              "4797            0.0  Credit Card            Yes       Friendly People   \n",
              "4799            0.0         Cash            Yes              Wildlife   \n",
              "4804            0.0  Credit Card             No           No comments   \n",
              "\n",
              "     total_cost  \n",
              "2     15.013968  \n",
              "6     13.052243  \n",
              "8     13.809996  \n",
              "9     14.726287  \n",
              "14    13.116850  \n",
              "...         ...  \n",
              "4795  12.934529  \n",
              "4796  14.320822  \n",
              "4797  15.331095  \n",
              "4799  16.718716  \n",
              "4804  15.013968  \n",
              "\n",
              "[1265 rows x 23 columns]"
            ],
            "text/html": [
              "\n",
              "  <div id=\"df-89f222a2-8c6c-470b-b9ba-63ae939284e3\" class=\"colab-df-container\">\n",
              "    <div>\n",
              "<style scoped>\n",
              "    .dataframe tbody tr th:only-of-type {\n",
              "        vertical-align: middle;\n",
              "    }\n",
              "\n",
              "    .dataframe tbody tr th {\n",
              "        vertical-align: top;\n",
              "    }\n",
              "\n",
              "    .dataframe thead th {\n",
              "        text-align: right;\n",
              "    }\n",
              "</style>\n",
              "<table border=\"1\" class=\"dataframe\">\n",
              "  <thead>\n",
              "    <tr style=\"text-align: right;\">\n",
              "      <th></th>\n",
              "      <th>ID</th>\n",
              "      <th>country</th>\n",
              "      <th>age_group</th>\n",
              "      <th>travel_with</th>\n",
              "      <th>total_female</th>\n",
              "      <th>total_male</th>\n",
              "      <th>purpose</th>\n",
              "      <th>main_activity</th>\n",
              "      <th>info_source</th>\n",
              "      <th>tour_arrangement</th>\n",
              "      <th>...</th>\n",
              "      <th>package_transport_tz</th>\n",
              "      <th>package_sightseeing</th>\n",
              "      <th>package_guided_tour</th>\n",
              "      <th>package_insurance</th>\n",
              "      <th>night_mainland</th>\n",
              "      <th>night_zanzibar</th>\n",
              "      <th>payment_mode</th>\n",
              "      <th>first_trip_tz</th>\n",
              "      <th>most_impressing</th>\n",
              "      <th>total_cost</th>\n",
              "    </tr>\n",
              "  </thead>\n",
              "  <tbody>\n",
              "    <tr>\n",
              "      <th>2</th>\n",
              "      <td>tour_1000</td>\n",
              "      <td>UNITED KINGDOM</td>\n",
              "      <td>25-44</td>\n",
              "      <td>Alone</td>\n",
              "      <td>0.0</td>\n",
              "      <td>1.0</td>\n",
              "      <td>Visiting Friends and Relatives</td>\n",
              "      <td>Cultural tourism</td>\n",
              "      <td>Friends, relatives</td>\n",
              "      <td>Independent</td>\n",
              "      <td>...</td>\n",
              "      <td>No</td>\n",
              "      <td>No</td>\n",
              "      <td>No</td>\n",
              "      <td>No</td>\n",
              "      <td>1.0</td>\n",
              "      <td>31.0</td>\n",
              "      <td>Cash</td>\n",
              "      <td>No</td>\n",
              "      <td>Excellent Experience</td>\n",
              "      <td>15.013968</td>\n",
              "    </tr>\n",
              "    <tr>\n",
              "      <th>6</th>\n",
              "      <td>tour_1007</td>\n",
              "      <td>SOUTH AFRICA</td>\n",
              "      <td>45-64</td>\n",
              "      <td>Alone</td>\n",
              "      <td>0.0</td>\n",
              "      <td>1.0</td>\n",
              "      <td>Business</td>\n",
              "      <td>Mountain climbing</td>\n",
              "      <td>Friends, relatives</td>\n",
              "      <td>Independent</td>\n",
              "      <td>...</td>\n",
              "      <td>No</td>\n",
              "      <td>No</td>\n",
              "      <td>No</td>\n",
              "      <td>No</td>\n",
              "      <td>9.0</td>\n",
              "      <td>0.0</td>\n",
              "      <td>Cash</td>\n",
              "      <td>Yes</td>\n",
              "      <td>Friendly People</td>\n",
              "      <td>13.052243</td>\n",
              "    </tr>\n",
              "    <tr>\n",
              "      <th>8</th>\n",
              "      <td>tour_101</td>\n",
              "      <td>NIGERIA</td>\n",
              "      <td>25-44</td>\n",
              "      <td>Alone</td>\n",
              "      <td>0.0</td>\n",
              "      <td>1.0</td>\n",
              "      <td>Leisure and Holidays</td>\n",
              "      <td>Cultural tourism</td>\n",
              "      <td>Travel, agent, tour operator</td>\n",
              "      <td>Independent</td>\n",
              "      <td>...</td>\n",
              "      <td>No</td>\n",
              "      <td>No</td>\n",
              "      <td>No</td>\n",
              "      <td>No</td>\n",
              "      <td>4.0</td>\n",
              "      <td>0.0</td>\n",
              "      <td>Cash</td>\n",
              "      <td>Yes</td>\n",
              "      <td>NaN</td>\n",
              "      <td>13.809996</td>\n",
              "    </tr>\n",
              "    <tr>\n",
              "      <th>9</th>\n",
              "      <td>tour_1011</td>\n",
              "      <td>INDIA</td>\n",
              "      <td>25-44</td>\n",
              "      <td>Alone</td>\n",
              "      <td>1.0</td>\n",
              "      <td>0.0</td>\n",
              "      <td>Business</td>\n",
              "      <td>Wildlife tourism</td>\n",
              "      <td>Travel, agent, tour operator</td>\n",
              "      <td>Independent</td>\n",
              "      <td>...</td>\n",
              "      <td>No</td>\n",
              "      <td>No</td>\n",
              "      <td>No</td>\n",
              "      <td>No</td>\n",
              "      <td>5.0</td>\n",
              "      <td>0.0</td>\n",
              "      <td>Credit Card</td>\n",
              "      <td>Yes</td>\n",
              "      <td>Friendly People</td>\n",
              "      <td>14.726287</td>\n",
              "    </tr>\n",
              "    <tr>\n",
              "      <th>14</th>\n",
              "      <td>tour_1018</td>\n",
              "      <td>MOZAMBIQUE</td>\n",
              "      <td>25-44</td>\n",
              "      <td>Alone</td>\n",
              "      <td>0.0</td>\n",
              "      <td>1.0</td>\n",
              "      <td>Visiting Friends and Relatives</td>\n",
              "      <td>Beach tourism</td>\n",
              "      <td>Friends, relatives</td>\n",
              "      <td>Independent</td>\n",
              "      <td>...</td>\n",
              "      <td>No</td>\n",
              "      <td>No</td>\n",
              "      <td>No</td>\n",
              "      <td>No</td>\n",
              "      <td>2.0</td>\n",
              "      <td>0.0</td>\n",
              "      <td>Cash</td>\n",
              "      <td>Yes</td>\n",
              "      <td>Wildlife</td>\n",
              "      <td>13.116850</td>\n",
              "    </tr>\n",
              "    <tr>\n",
              "      <th>...</th>\n",
              "      <td>...</td>\n",
              "      <td>...</td>\n",
              "      <td>...</td>\n",
              "      <td>...</td>\n",
              "      <td>...</td>\n",
              "      <td>...</td>\n",
              "      <td>...</td>\n",
              "      <td>...</td>\n",
              "      <td>...</td>\n",
              "      <td>...</td>\n",
              "      <td>...</td>\n",
              "      <td>...</td>\n",
              "      <td>...</td>\n",
              "      <td>...</td>\n",
              "      <td>...</td>\n",
              "      <td>...</td>\n",
              "      <td>...</td>\n",
              "      <td>...</td>\n",
              "      <td>...</td>\n",
              "      <td>...</td>\n",
              "      <td>...</td>\n",
              "    </tr>\n",
              "    <tr>\n",
              "      <th>4795</th>\n",
              "      <td>tour_982</td>\n",
              "      <td>THAILAND</td>\n",
              "      <td>25-44</td>\n",
              "      <td>Alone</td>\n",
              "      <td>1.0</td>\n",
              "      <td>0.0</td>\n",
              "      <td>Meetings and Conference</td>\n",
              "      <td>Mountain climbing</td>\n",
              "      <td>others</td>\n",
              "      <td>Independent</td>\n",
              "      <td>...</td>\n",
              "      <td>No</td>\n",
              "      <td>No</td>\n",
              "      <td>No</td>\n",
              "      <td>No</td>\n",
              "      <td>5.0</td>\n",
              "      <td>0.0</td>\n",
              "      <td>Cash</td>\n",
              "      <td>Yes</td>\n",
              "      <td>Friendly People</td>\n",
              "      <td>12.934529</td>\n",
              "    </tr>\n",
              "    <tr>\n",
              "      <th>4796</th>\n",
              "      <td>tour_983</td>\n",
              "      <td>SOUTH AFRICA</td>\n",
              "      <td>25-44</td>\n",
              "      <td>Alone</td>\n",
              "      <td>0.0</td>\n",
              "      <td>1.0</td>\n",
              "      <td>Meetings and Conference</td>\n",
              "      <td>Mountain climbing</td>\n",
              "      <td>Travel, agent, tour operator</td>\n",
              "      <td>Independent</td>\n",
              "      <td>...</td>\n",
              "      <td>No</td>\n",
              "      <td>No</td>\n",
              "      <td>No</td>\n",
              "      <td>No</td>\n",
              "      <td>3.0</td>\n",
              "      <td>0.0</td>\n",
              "      <td>Cash</td>\n",
              "      <td>Yes</td>\n",
              "      <td>Friendly People</td>\n",
              "      <td>14.320822</td>\n",
              "    </tr>\n",
              "    <tr>\n",
              "      <th>4797</th>\n",
              "      <td>tour_984</td>\n",
              "      <td>UNITED KINGDOM</td>\n",
              "      <td>25-44</td>\n",
              "      <td>Alone</td>\n",
              "      <td>1.0</td>\n",
              "      <td>0.0</td>\n",
              "      <td>Leisure and Holidays</td>\n",
              "      <td>Beach tourism</td>\n",
              "      <td>Friends, relatives</td>\n",
              "      <td>Independent</td>\n",
              "      <td>...</td>\n",
              "      <td>No</td>\n",
              "      <td>No</td>\n",
              "      <td>No</td>\n",
              "      <td>No</td>\n",
              "      <td>3.0</td>\n",
              "      <td>0.0</td>\n",
              "      <td>Credit Card</td>\n",
              "      <td>Yes</td>\n",
              "      <td>Friendly People</td>\n",
              "      <td>15.331095</td>\n",
              "    </tr>\n",
              "    <tr>\n",
              "      <th>4799</th>\n",
              "      <td>tour_986</td>\n",
              "      <td>UNITED STATES OF AMERICA</td>\n",
              "      <td>65+</td>\n",
              "      <td>Alone</td>\n",
              "      <td>1.0</td>\n",
              "      <td>0.0</td>\n",
              "      <td>Leisure and Holidays</td>\n",
              "      <td>Wildlife tourism</td>\n",
              "      <td>Travel, agent, tour operator</td>\n",
              "      <td>Package Tour</td>\n",
              "      <td>...</td>\n",
              "      <td>Yes</td>\n",
              "      <td>Yes</td>\n",
              "      <td>Yes</td>\n",
              "      <td>Yes</td>\n",
              "      <td>19.0</td>\n",
              "      <td>0.0</td>\n",
              "      <td>Cash</td>\n",
              "      <td>Yes</td>\n",
              "      <td>Wildlife</td>\n",
              "      <td>16.718716</td>\n",
              "    </tr>\n",
              "    <tr>\n",
              "      <th>4804</th>\n",
              "      <td>tour_993</td>\n",
              "      <td>UAE</td>\n",
              "      <td>45-64</td>\n",
              "      <td>Alone</td>\n",
              "      <td>0.0</td>\n",
              "      <td>1.0</td>\n",
              "      <td>Business</td>\n",
              "      <td>Hunting tourism</td>\n",
              "      <td>Friends, relatives</td>\n",
              "      <td>Independent</td>\n",
              "      <td>...</td>\n",
              "      <td>No</td>\n",
              "      <td>No</td>\n",
              "      <td>No</td>\n",
              "      <td>No</td>\n",
              "      <td>2.0</td>\n",
              "      <td>0.0</td>\n",
              "      <td>Credit Card</td>\n",
              "      <td>No</td>\n",
              "      <td>No comments</td>\n",
              "      <td>15.013968</td>\n",
              "    </tr>\n",
              "  </tbody>\n",
              "</table>\n",
              "<p>1265 rows × 23 columns</p>\n",
              "</div>\n",
              "    <div class=\"colab-df-buttons\">\n",
              "\n",
              "  <div class=\"colab-df-container\">\n",
              "    <button class=\"colab-df-convert\" onclick=\"convertToInteractive('df-89f222a2-8c6c-470b-b9ba-63ae939284e3')\"\n",
              "            title=\"Convert this dataframe to an interactive table.\"\n",
              "            style=\"display:none;\">\n",
              "\n",
              "  <svg xmlns=\"http://www.w3.org/2000/svg\" height=\"24px\" viewBox=\"0 -960 960 960\">\n",
              "    <path d=\"M120-120v-720h720v720H120Zm60-500h600v-160H180v160Zm220 220h160v-160H400v160Zm0 220h160v-160H400v160ZM180-400h160v-160H180v160Zm440 0h160v-160H620v160ZM180-180h160v-160H180v160Zm440 0h160v-160H620v160Z\"/>\n",
              "  </svg>\n",
              "    </button>\n",
              "\n",
              "  <style>\n",
              "    .colab-df-container {\n",
              "      display:flex;\n",
              "      gap: 12px;\n",
              "    }\n",
              "\n",
              "    .colab-df-convert {\n",
              "      background-color: #E8F0FE;\n",
              "      border: none;\n",
              "      border-radius: 50%;\n",
              "      cursor: pointer;\n",
              "      display: none;\n",
              "      fill: #1967D2;\n",
              "      height: 32px;\n",
              "      padding: 0 0 0 0;\n",
              "      width: 32px;\n",
              "    }\n",
              "\n",
              "    .colab-df-convert:hover {\n",
              "      background-color: #E2EBFA;\n",
              "      box-shadow: 0px 1px 2px rgba(60, 64, 67, 0.3), 0px 1px 3px 1px rgba(60, 64, 67, 0.15);\n",
              "      fill: #174EA6;\n",
              "    }\n",
              "\n",
              "    .colab-df-buttons div {\n",
              "      margin-bottom: 4px;\n",
              "    }\n",
              "\n",
              "    [theme=dark] .colab-df-convert {\n",
              "      background-color: #3B4455;\n",
              "      fill: #D2E3FC;\n",
              "    }\n",
              "\n",
              "    [theme=dark] .colab-df-convert:hover {\n",
              "      background-color: #434B5C;\n",
              "      box-shadow: 0px 1px 3px 1px rgba(0, 0, 0, 0.15);\n",
              "      filter: drop-shadow(0px 1px 2px rgba(0, 0, 0, 0.3));\n",
              "      fill: #FFFFFF;\n",
              "    }\n",
              "  </style>\n",
              "\n",
              "    <script>\n",
              "      const buttonEl =\n",
              "        document.querySelector('#df-89f222a2-8c6c-470b-b9ba-63ae939284e3 button.colab-df-convert');\n",
              "      buttonEl.style.display =\n",
              "        google.colab.kernel.accessAllowed ? 'block' : 'none';\n",
              "\n",
              "      async function convertToInteractive(key) {\n",
              "        const element = document.querySelector('#df-89f222a2-8c6c-470b-b9ba-63ae939284e3');\n",
              "        const dataTable =\n",
              "          await google.colab.kernel.invokeFunction('convertToInteractive',\n",
              "                                                    [key], {});\n",
              "        if (!dataTable) return;\n",
              "\n",
              "        const docLinkHtml = 'Like what you see? Visit the ' +\n",
              "          '<a target=\"_blank\" href=https://colab.research.google.com/notebooks/data_table.ipynb>data table notebook</a>'\n",
              "          + ' to learn more about interactive tables.';\n",
              "        element.innerHTML = '';\n",
              "        dataTable['output_type'] = 'display_data';\n",
              "        await google.colab.output.renderOutput(dataTable, element);\n",
              "        const docLink = document.createElement('div');\n",
              "        docLink.innerHTML = docLinkHtml;\n",
              "        element.appendChild(docLink);\n",
              "      }\n",
              "    </script>\n",
              "  </div>\n",
              "\n",
              "\n",
              "<div id=\"df-7901aea1-0cd0-4339-a664-ccb2b335926f\">\n",
              "  <button class=\"colab-df-quickchart\" onclick=\"quickchart('df-7901aea1-0cd0-4339-a664-ccb2b335926f')\"\n",
              "            title=\"Suggest charts\"\n",
              "            style=\"display:none;\">\n",
              "\n",
              "<svg xmlns=\"http://www.w3.org/2000/svg\" height=\"24px\"viewBox=\"0 0 24 24\"\n",
              "     width=\"24px\">\n",
              "    <g>\n",
              "        <path d=\"M19 3H5c-1.1 0-2 .9-2 2v14c0 1.1.9 2 2 2h14c1.1 0 2-.9 2-2V5c0-1.1-.9-2-2-2zM9 17H7v-7h2v7zm4 0h-2V7h2v10zm4 0h-2v-4h2v4z\"/>\n",
              "    </g>\n",
              "</svg>\n",
              "  </button>\n",
              "\n",
              "<style>\n",
              "  .colab-df-quickchart {\n",
              "      --bg-color: #E8F0FE;\n",
              "      --fill-color: #1967D2;\n",
              "      --hover-bg-color: #E2EBFA;\n",
              "      --hover-fill-color: #174EA6;\n",
              "      --disabled-fill-color: #AAA;\n",
              "      --disabled-bg-color: #DDD;\n",
              "  }\n",
              "\n",
              "  [theme=dark] .colab-df-quickchart {\n",
              "      --bg-color: #3B4455;\n",
              "      --fill-color: #D2E3FC;\n",
              "      --hover-bg-color: #434B5C;\n",
              "      --hover-fill-color: #FFFFFF;\n",
              "      --disabled-bg-color: #3B4455;\n",
              "      --disabled-fill-color: #666;\n",
              "  }\n",
              "\n",
              "  .colab-df-quickchart {\n",
              "    background-color: var(--bg-color);\n",
              "    border: none;\n",
              "    border-radius: 50%;\n",
              "    cursor: pointer;\n",
              "    display: none;\n",
              "    fill: var(--fill-color);\n",
              "    height: 32px;\n",
              "    padding: 0;\n",
              "    width: 32px;\n",
              "  }\n",
              "\n",
              "  .colab-df-quickchart:hover {\n",
              "    background-color: var(--hover-bg-color);\n",
              "    box-shadow: 0 1px 2px rgba(60, 64, 67, 0.3), 0 1px 3px 1px rgba(60, 64, 67, 0.15);\n",
              "    fill: var(--button-hover-fill-color);\n",
              "  }\n",
              "\n",
              "  .colab-df-quickchart-complete:disabled,\n",
              "  .colab-df-quickchart-complete:disabled:hover {\n",
              "    background-color: var(--disabled-bg-color);\n",
              "    fill: var(--disabled-fill-color);\n",
              "    box-shadow: none;\n",
              "  }\n",
              "\n",
              "  .colab-df-spinner {\n",
              "    border: 2px solid var(--fill-color);\n",
              "    border-color: transparent;\n",
              "    border-bottom-color: var(--fill-color);\n",
              "    animation:\n",
              "      spin 1s steps(1) infinite;\n",
              "  }\n",
              "\n",
              "  @keyframes spin {\n",
              "    0% {\n",
              "      border-color: transparent;\n",
              "      border-bottom-color: var(--fill-color);\n",
              "      border-left-color: var(--fill-color);\n",
              "    }\n",
              "    20% {\n",
              "      border-color: transparent;\n",
              "      border-left-color: var(--fill-color);\n",
              "      border-top-color: var(--fill-color);\n",
              "    }\n",
              "    30% {\n",
              "      border-color: transparent;\n",
              "      border-left-color: var(--fill-color);\n",
              "      border-top-color: var(--fill-color);\n",
              "      border-right-color: var(--fill-color);\n",
              "    }\n",
              "    40% {\n",
              "      border-color: transparent;\n",
              "      border-right-color: var(--fill-color);\n",
              "      border-top-color: var(--fill-color);\n",
              "    }\n",
              "    60% {\n",
              "      border-color: transparent;\n",
              "      border-right-color: var(--fill-color);\n",
              "    }\n",
              "    80% {\n",
              "      border-color: transparent;\n",
              "      border-right-color: var(--fill-color);\n",
              "      border-bottom-color: var(--fill-color);\n",
              "    }\n",
              "    90% {\n",
              "      border-color: transparent;\n",
              "      border-bottom-color: var(--fill-color);\n",
              "    }\n",
              "  }\n",
              "</style>\n",
              "\n",
              "  <script>\n",
              "    async function quickchart(key) {\n",
              "      const quickchartButtonEl =\n",
              "        document.querySelector('#' + key + ' button');\n",
              "      quickchartButtonEl.disabled = true;  // To prevent multiple clicks.\n",
              "      quickchartButtonEl.classList.add('colab-df-spinner');\n",
              "      try {\n",
              "        const charts = await google.colab.kernel.invokeFunction(\n",
              "            'suggestCharts', [key], {});\n",
              "      } catch (error) {\n",
              "        console.error('Error during call to suggestCharts:', error);\n",
              "      }\n",
              "      quickchartButtonEl.classList.remove('colab-df-spinner');\n",
              "      quickchartButtonEl.classList.add('colab-df-quickchart-complete');\n",
              "    }\n",
              "    (() => {\n",
              "      let quickchartButtonEl =\n",
              "        document.querySelector('#df-7901aea1-0cd0-4339-a664-ccb2b335926f button');\n",
              "      quickchartButtonEl.style.display =\n",
              "        google.colab.kernel.accessAllowed ? 'block' : 'none';\n",
              "    })();\n",
              "  </script>\n",
              "</div>\n",
              "\n",
              "    </div>\n",
              "  </div>\n"
            ],
            "application/vnd.google.colaboratory.intrinsic+json": {
              "type": "dataframe"
            }
          },
          "metadata": {},
          "execution_count": 8
        }
      ]
    },
    {
      "cell_type": "code",
      "source": [
        "columns = vd['Column Name'].unique()\n",
        "train_cols = train.columns"
      ],
      "metadata": {
        "id": "lZdqLiWNJm-X"
      },
      "execution_count": 9,
      "outputs": []
    },
    {
      "cell_type": "code",
      "source": [
        "vd = vd.set_index('Column Name')"
      ],
      "metadata": {
        "id": "csqpkFyTaDpm"
      },
      "execution_count": 10,
      "outputs": []
    },
    {
      "cell_type": "code",
      "source": [
        "for i in range(len(columns)):\n",
        "  column = columns[i]\n",
        "  print(column,':', vd.loc[column, 'Definition'])"
      ],
      "metadata": {
        "id": "aLPxUA_NY1ck",
        "outputId": "8f2ebfd3-d014-4f23-d1eb-bccde060e6f8",
        "colab": {
          "base_uri": "https://localhost:8080/"
        }
      },
      "execution_count": 11,
      "outputs": [
        {
          "output_type": "stream",
          "name": "stdout",
          "text": [
            "id : Unique identifier for each tourist\n",
            "country : The country a tourist coming  from.\n",
            "age_group : The age group of a tourist.\n",
            "travel_with : The relation of people a tourist travel with to Tanzania\n",
            "total_female : Total number of females\n",
            "total_male : Total number of males\n",
            "purpose : The purpose of visiting  Tanzania\n",
            "main_activity : The main activity of tourism in Tanzania\n",
            "infor_source : The source of information about tourism in Tanzania\n",
            "tour_arrangment : The arrangment of visiting Tanzania\n",
            "package_transport_int : If the tour package include international transportation service\n",
            "package_accomodation : If the tour package include accommodation service\n",
            "package_food : If the tour package include food service\n",
            "package_transport_tz : If the tour package include transport service within Tanzania \n",
            "package_sightseeing : If the tour package include sightseeing service\n",
            "package_guided_tour : If the tour package include tour guide\n",
            "package_insurance : if the tour package include insurance service\n",
            "night_mainland : Number of nights a tourist spent in Tanzania mainland\n",
            "night_zanzibar : Number of nights a tourist spent in Zanzibar\n",
            "payment_mode : The mode of payment for tourism service\n",
            "first_trip_tz : If it was a first  trip to Tanzania\n",
            "most_impressing : what impressed a toursit in Tanzania\n",
            "total_cost : The total tourist expenditure  in TZS(currency)\n"
          ]
        }
      ]
    },
    {
      "cell_type": "code",
      "source": [
        "sm = train.groupby('payment_mode')['total_cost'].mean()\n",
        "train['payment_mode'].value_counts()\n",
        "pay_mp = {\n",
        "    'Cash': 1,\n",
        "    'Credit Card': 2,\n",
        "    'Other': 3,\n",
        "    'Travellers Cheque': 4\n",
        "}\n",
        "train['payment_mode_mp'] = train['payment_mode'].map(pay_mp)\n",
        "test['payment_mode_mp'] = test['payment_mode'].map(pay_mp)\n",
        "train['total_cost'].corr(train['payment_mode_mp'])"
      ],
      "metadata": {
        "colab": {
          "base_uri": "https://localhost:8080/"
        },
        "id": "WRptSDVoHsYV",
        "outputId": "5529e858-4652-48b0-da89-cc3b0a6a9431"
      },
      "execution_count": 12,
      "outputs": [
        {
          "output_type": "execute_result",
          "data": {
            "text/plain": [
              "0.11944535031158422"
            ]
          },
          "metadata": {},
          "execution_count": 12
        }
      ]
    },
    {
      "cell_type": "code",
      "source": [
        "# tries to find cells where the total_female + total_male == 1 which indicates that person was alone.\n",
        "# We could use this information to fill the areas with the above specified condition to 1\n",
        "train.loc[(train['travel_with'].isna()) & (train['total_female'] + train['total_male'] == 1), 'travel_with'] = 'Alone'\n",
        "train['travel_with'].isna().sum()"
      ],
      "metadata": {
        "colab": {
          "base_uri": "https://localhost:8080/"
        },
        "id": "ZlJngGfNMXFZ",
        "outputId": "fc753c0c-5650-4a9a-da72-7d2c8cc0fdf6"
      },
      "execution_count": 13,
      "outputs": [
        {
          "output_type": "execute_result",
          "data": {
            "text/plain": [
              "29"
            ]
          },
          "metadata": {},
          "execution_count": 13
        }
      ]
    },
    {
      "cell_type": "code",
      "source": [
        "train['most_impressing'].value_counts()"
      ],
      "metadata": {
        "colab": {
          "base_uri": "https://localhost:8080/",
          "height": 335
        },
        "id": "sE66tpFYOuDv",
        "outputId": "ef26ee91-0905-40f9-abc9-622416c52107"
      },
      "execution_count": 14,
      "outputs": [
        {
          "output_type": "execute_result",
          "data": {
            "text/plain": [
              "most_impressing\n",
              "Friendly People                         1541\n",
              " Wildlife                               1038\n",
              "No comments                              743\n",
              "Wonderful Country, Landscape, Nature     507\n",
              "Good service                             365\n",
              "Excellent Experience                     271\n",
              "Satisfies and Hope Come Back              31\n",
              "Name: count, dtype: int64"
            ],
            "text/html": [
              "<div>\n",
              "<style scoped>\n",
              "    .dataframe tbody tr th:only-of-type {\n",
              "        vertical-align: middle;\n",
              "    }\n",
              "\n",
              "    .dataframe tbody tr th {\n",
              "        vertical-align: top;\n",
              "    }\n",
              "\n",
              "    .dataframe thead th {\n",
              "        text-align: right;\n",
              "    }\n",
              "</style>\n",
              "<table border=\"1\" class=\"dataframe\">\n",
              "  <thead>\n",
              "    <tr style=\"text-align: right;\">\n",
              "      <th></th>\n",
              "      <th>count</th>\n",
              "    </tr>\n",
              "    <tr>\n",
              "      <th>most_impressing</th>\n",
              "      <th></th>\n",
              "    </tr>\n",
              "  </thead>\n",
              "  <tbody>\n",
              "    <tr>\n",
              "      <th>Friendly People</th>\n",
              "      <td>1541</td>\n",
              "    </tr>\n",
              "    <tr>\n",
              "      <th>Wildlife</th>\n",
              "      <td>1038</td>\n",
              "    </tr>\n",
              "    <tr>\n",
              "      <th>No comments</th>\n",
              "      <td>743</td>\n",
              "    </tr>\n",
              "    <tr>\n",
              "      <th>Wonderful Country, Landscape, Nature</th>\n",
              "      <td>507</td>\n",
              "    </tr>\n",
              "    <tr>\n",
              "      <th>Good service</th>\n",
              "      <td>365</td>\n",
              "    </tr>\n",
              "    <tr>\n",
              "      <th>Excellent Experience</th>\n",
              "      <td>271</td>\n",
              "    </tr>\n",
              "    <tr>\n",
              "      <th>Satisfies and Hope Come Back</th>\n",
              "      <td>31</td>\n",
              "    </tr>\n",
              "  </tbody>\n",
              "</table>\n",
              "</div><br><label><b>dtype:</b> int64</label>"
            ]
          },
          "metadata": {},
          "execution_count": 14
        }
      ]
    },
    {
      "cell_type": "code",
      "source": [
        "train.dropna(subset=['most_impressing'],axis=0, inplace=True)"
      ],
      "metadata": {
        "id": "Lb6gXnZ2O5xb"
      },
      "execution_count": 15,
      "outputs": []
    },
    {
      "cell_type": "code",
      "source": [
        "na = pd.DataFrame(train.isna().sum(), columns=['Missing Values'])\n",
        "na = na[na['Missing Values'] > 0]\n",
        "plt.figure(figsize=(20, 6))\n",
        "sns.barplot(y=na['Missing Values'], x=na.index)\n",
        "plt.title('Missing Values Distribution', size=20, weight='bold')\n",
        "plt.xticks(rotation=45, ha='right')\n",
        "\n",
        "print(colored(\"Missing values column-wise:\", 'magenta'))\n",
        "print(colored(na['Missing Values'], 'magenta'))\n",
        "\n",
        "plt.show()"
      ],
      "metadata": {
        "colab": {
          "base_uri": "https://localhost:8080/",
          "height": 584
        },
        "id": "0Lk_DzbDOUyV",
        "outputId": "8f0bf3d8-79df-4b68-86a9-3d1a2e325046"
      },
      "execution_count": 16,
      "outputs": [
        {
          "output_type": "stream",
          "name": "stdout",
          "text": [
            "Missing values column-wise:\n",
            "travel_with     25\n",
            "total_female     3\n",
            "total_male       4\n",
            "Name: Missing Values, dtype: int64\n"
          ]
        },
        {
          "output_type": "display_data",
          "data": {
            "text/plain": [
              "<Figure size 2000x600 with 1 Axes>"
            ],
            "image/png": "[encoded data removed]"
          },
          "metadata": {}
        }
      ]
    },
    {
      "cell_type": "code",
      "source": [
        "fe = []; cat_fe = []; no_fe = []\n",
        "categorical_features = []\n",
        "numerical_features = []\n",
        "for i in train.columns[1:]:\n",
        "  if train[i].dtype == 'O':\n",
        "    categorical_features.append(i)\n",
        "  else:\n",
        "    numerical_features.append(i)\n",
        "  if train[i].isnull().sum() < 2000:\n",
        "    fe.append(i)\n",
        "    if train[i].dtype == 'O':\n",
        "      cat_fe.append(i)\n",
        "      print(\"There are \"+ str(len(train[i].value_counts())) + \" in \" + str(i))\n",
        "  else:\n",
        "    no_fe.append(i)\n",
        "\n",
        "print ('----------------------------------')\n",
        "print(str(len(fe)))\n",
        "print(str(len(cat_fe)))\n",
        "print(str(len(no_fe)))\n",
        "\n",
        "\n",
        "print('categorical features are: ', categorical_features)\n",
        "for category in categorical_features:\n",
        "  print(category, train[category].dtype)\n",
        "print('numerical features are: ', numerical_features)\n",
        "for num in numerical_features:\n",
        "  print(num, train[num].dtype)\n",
        "\n"
      ],
      "metadata": {
        "trusted": true,
        "execution": {
          "iopub.status.busy": "2024-12-13T08:14:41.749294Z",
          "iopub.execute_input": "2024-12-13T08:14:41.74977Z",
          "iopub.status.idle": "2024-12-13T08:14:41.784593Z",
          "shell.execute_reply.started": "2024-12-13T08:14:41.749736Z",
          "shell.execute_reply": "2024-12-13T08:14:41.783636Z"
        },
        "id": "TzPnGH_9_QxU",
        "outputId": "a9a87353-fa3a-4e7d-ff0f-767d982b5aac",
        "colab": {
          "base_uri": "https://localhost:8080/"
        }
      },
      "outputs": [
        {
          "output_type": "stream",
          "name": "stdout",
          "text": [
            "There are 103 in country\n",
            "There are 4 in age_group\n",
            "There are 5 in travel_with\n",
            "There are 7 in purpose\n",
            "There are 9 in main_activity\n",
            "There are 8 in info_source\n",
            "There are 2 in tour_arrangement\n",
            "There are 2 in package_transport_int\n",
            "There are 2 in package_accomodation\n",
            "There are 2 in package_food\n",
            "There are 2 in package_transport_tz\n",
            "There are 2 in package_sightseeing\n",
            "There are 2 in package_guided_tour\n",
            "There are 2 in package_insurance\n",
            "There are 4 in payment_mode\n",
            "There are 2 in first_trip_tz\n",
            "There are 7 in most_impressing\n",
            "----------------------------------\n",
            "23\n",
            "17\n",
            "0\n",
            "categorical features are:  ['country', 'age_group', 'travel_with', 'purpose', 'main_activity', 'info_source', 'tour_arrangement', 'package_transport_int', 'package_accomodation', 'package_food', 'package_transport_tz', 'package_sightseeing', 'package_guided_tour', 'package_insurance', 'payment_mode', 'first_trip_tz', 'most_impressing']\n",
            "country object\n",
            "age_group object\n",
            "travel_with object\n",
            "purpose object\n",
            "main_activity object\n",
            "info_source object\n",
            "tour_arrangement object\n",
            "package_transport_int object\n",
            "package_accomodation object\n",
            "package_food object\n",
            "package_transport_tz object\n",
            "package_sightseeing object\n",
            "package_guided_tour object\n",
            "package_insurance object\n",
            "payment_mode object\n",
            "first_trip_tz object\n",
            "most_impressing object\n",
            "numerical features are:  ['total_female', 'total_male', 'night_mainland', 'night_zanzibar', 'total_cost', 'payment_mode_mp']\n",
            "total_female float64\n",
            "total_male float64\n",
            "night_mainland float64\n",
            "night_zanzibar float64\n",
            "total_cost float64\n",
            "payment_mode_mp int64\n"
          ]
        }
      ],
      "execution_count": 17
    },
    {
      "cell_type": "code",
      "source": [
        "packages = ['package_transport_int', 'package_accomodation', 'package_food', 'package_transport_tz', 'package_sightseeing', 'package_guided_tour', 'package_insurance']"
      ],
      "metadata": {
        "id": "Bg1B1K_pQOEd"
      },
      "execution_count": 18,
      "outputs": []
    },
    {
      "cell_type": "code",
      "source": [
        "train[packages].info()"
      ],
      "metadata": {
        "colab": {
          "base_uri": "https://localhost:8080/"
        },
        "id": "osFnIHuUTBSo",
        "outputId": "2cca30fd-d837-4467-a2d0-41fdda50e1b5"
      },
      "execution_count": 19,
      "outputs": [
        {
          "output_type": "stream",
          "name": "stdout",
          "text": [
            "<class 'pandas.core.frame.DataFrame'>\n",
            "Index: 4496 entries, 0 to 4808\n",
            "Data columns (total 7 columns):\n",
            " #   Column                 Non-Null Count  Dtype \n",
            "---  ------                 --------------  ----- \n",
            " 0   package_transport_int  4496 non-null   object\n",
            " 1   package_accomodation   4496 non-null   object\n",
            " 2   package_food           4496 non-null   object\n",
            " 3   package_transport_tz   4496 non-null   object\n",
            " 4   package_sightseeing    4496 non-null   object\n",
            " 5   package_guided_tour    4496 non-null   object\n",
            " 6   package_insurance      4496 non-null   object\n",
            "dtypes: object(7)\n",
            "memory usage: 281.0+ KB\n"
          ]
        }
      ]
    },
    {
      "cell_type": "code",
      "source": [
        "# This block tries to manipulate the packages columns to change it to numeric data\n",
        "# It adds the number of packages a user buys.\n",
        "\n",
        "use_package = (\n",
        "    (train['package_transport_int'] == 'Yes') |\n",
        "    (train['package_accomodation'] == 'Yes') |\n",
        "    (train['package_food'] == 'Yes') |\n",
        "    (train['package_transport_tz'] == 'Yes') |\n",
        "    (train['package_sightseeing'] == 'Yes') |\n",
        "    (train['package_guided_tour'] == 'Yes') |\n",
        "    (train['package_insurance'] == 'Yes')\n",
        ")\n",
        "\n",
        "train['cnt_package'] = (\n",
        "    (train['package_transport_int'] == 'Yes').astype(int) +\n",
        "    (train['package_accomodation'] == 'Yes').astype(int) +\n",
        "    (train['package_food'] == 'Yes').astype(int) +\n",
        "    (train['package_transport_tz'] == 'Yes').astype(int) +\n",
        "    (train['package_sightseeing'] == 'Yes').astype(int) +\n",
        "    (train['package_guided_tour'] == 'Yes').astype(int) +\n",
        "    (train['package_insurance'] == 'Yes').astype(int) +\n",
        "    (train['tour_arrangement'] == 'Package Tour').astype(int)\n",
        ")\n",
        "\n",
        "test['cnt_package'] =  (\n",
        "    (test['package_transport_int'] == 'Yes').astype(int) +\n",
        "    (test['package_accomodation'] == 'Yes').astype(int) +\n",
        "    (test['package_food'] == 'Yes').astype(int) +\n",
        "    (test['package_transport_tz'] == 'Yes').astype(int) +\n",
        "    (test['package_sightseeing'] == 'Yes').astype(int) +\n",
        "    (test['package_guided_tour'] == 'Yes').astype(int) +\n",
        "    (test['package_insurance'] == 'Yes').astype(int) +\n",
        "    (test['tour_arrangement'] == 'Package Tour').astype(int)\n",
        ")\n",
        "train['cnt_package'].value_counts()\n",
        "train['total_cost'].corr(train['cnt_package'])\n",
        "numerical_features.append('cnt_package')"
      ],
      "metadata": {
        "id": "GendUBv6SzQf"
      },
      "execution_count": 20,
      "outputs": []
    },
    {
      "cell_type": "code",
      "source": [
        "\n",
        "\n",
        "\n"
      ],
      "metadata": {
        "id": "1ViPVch95x6j"
      },
      "execution_count": 20,
      "outputs": []
    },
    {
      "cell_type": "code",
      "source": [
        "## this block tries to add a new feature, total people by adding the total_female and total_male\n",
        "## first let's check if there are any missing values\n",
        "\n",
        "# train['total_female'].isna().sum()  ==> 3\n",
        "# train['total_male'].isna().sum() ==> 5\n",
        "\n",
        "# since the values are very small, we can fill them with 0\n",
        "train['total_female'] = train['total_female'].fillna(0)\n",
        "train['total_male'] = train['total_male'].fillna(0)\n",
        "\n",
        "test['total_female'] = test['total_female'].fillna(0)\n",
        "test['total_male'] = test['total_male'].fillna(0)\n",
        "\n",
        "test['total_people'] = test['total_female'] + test['total_male']\n",
        "\n",
        "train['total_people'] = train['total_female'] + train['total_male']\n",
        "\n",
        "train['total_package'] = train['cnt_package'] * train['total_people']\n",
        "test['total_package'] = test['cnt_package'] * test['total_people']\n",
        "train['total_people'].value_counts()\n",
        "numerical_features.append('total_people')"
      ],
      "metadata": {
        "id": "0jUfeSbdXA8s"
      },
      "execution_count": 21,
      "outputs": []
    },
    {
      "cell_type": "code",
      "source": [
        "## this block tries to add a new feature, total_night by adding the night_main_land and night_zanzibar\n",
        "# first let's check if there are any missing values\n",
        "\n",
        "# train['night_mainland'].isna().sum() ==> 0\n",
        "# train['night_zanzibar'].isna().sum()  ==> 0\n",
        "\n",
        "train['total_night'] = train['night_mainland'] + train['night_zanzibar']\n",
        "numerical_features.append('total_night')\n",
        "\n",
        "test['total_night'] = test['night_mainland'] + test['night_zanzibar']"
      ],
      "metadata": {
        "id": "PU9JZ-5Qdo2h"
      },
      "execution_count": 22,
      "outputs": []
    },
    {
      "cell_type": "code",
      "source": [
        "train['country'].value_counts()"
      ],
      "metadata": {
        "colab": {
          "base_uri": "https://localhost:8080/",
          "height": 489
        },
        "id": "OhSRvH6AgFdW",
        "outputId": "dfbf076a-add3-4bd1-bbfb-65c4d4eba856"
      },
      "execution_count": 23,
      "outputs": [
        {
          "output_type": "execute_result",
          "data": {
            "text/plain": [
              "country\n",
              "UNITED STATES OF AMERICA    681\n",
              "UNITED KINGDOM              505\n",
              "ITALY                       379\n",
              "FRANCE                      270\n",
              "KENYA                       228\n",
              "                           ... \n",
              "MYANMAR                       1\n",
              "DOMINICA                      1\n",
              "TUNISIA                       1\n",
              "YEMEN                         1\n",
              "THAILAND                      1\n",
              "Name: count, Length: 103, dtype: int64"
            ],
            "text/html": [
              "<div>\n",
              "<style scoped>\n",
              "    .dataframe tbody tr th:only-of-type {\n",
              "        vertical-align: middle;\n",
              "    }\n",
              "\n",
              "    .dataframe tbody tr th {\n",
              "        vertical-align: top;\n",
              "    }\n",
              "\n",
              "    .dataframe thead th {\n",
              "        text-align: right;\n",
              "    }\n",
              "</style>\n",
              "<table border=\"1\" class=\"dataframe\">\n",
              "  <thead>\n",
              "    <tr style=\"text-align: right;\">\n",
              "      <th></th>\n",
              "      <th>count</th>\n",
              "    </tr>\n",
              "    <tr>\n",
              "      <th>country</th>\n",
              "      <th></th>\n",
              "    </tr>\n",
              "  </thead>\n",
              "  <tbody>\n",
              "    <tr>\n",
              "      <th>UNITED STATES OF AMERICA</th>\n",
              "      <td>681</td>\n",
              "    </tr>\n",
              "    <tr>\n",
              "      <th>UNITED KINGDOM</th>\n",
              "      <td>505</td>\n",
              "    </tr>\n",
              "    <tr>\n",
              "      <th>ITALY</th>\n",
              "      <td>379</td>\n",
              "    </tr>\n",
              "    <tr>\n",
              "      <th>FRANCE</th>\n",
              "      <td>270</td>\n",
              "    </tr>\n",
              "    <tr>\n",
              "      <th>KENYA</th>\n",
              "      <td>228</td>\n",
              "    </tr>\n",
              "    <tr>\n",
              "      <th>...</th>\n",
              "      <td>...</td>\n",
              "    </tr>\n",
              "    <tr>\n",
              "      <th>MYANMAR</th>\n",
              "      <td>1</td>\n",
              "    </tr>\n",
              "    <tr>\n",
              "      <th>DOMINICA</th>\n",
              "      <td>1</td>\n",
              "    </tr>\n",
              "    <tr>\n",
              "      <th>TUNISIA</th>\n",
              "      <td>1</td>\n",
              "    </tr>\n",
              "    <tr>\n",
              "      <th>YEMEN</th>\n",
              "      <td>1</td>\n",
              "    </tr>\n",
              "    <tr>\n",
              "      <th>THAILAND</th>\n",
              "      <td>1</td>\n",
              "    </tr>\n",
              "  </tbody>\n",
              "</table>\n",
              "<p>103 rows × 1 columns</p>\n",
              "</div><br><label><b>dtype:</b> int64</label>"
            ]
          },
          "metadata": {},
          "execution_count": 23
        }
      ]
    },
    {
      "cell_type": "code",
      "source": [
        "country_cost_avg = train.groupby('country')['total_cost'].mean().sort_values(ascending=False)\n",
        "train['total_cost'].corr(country_cost_avg)"
      ],
      "metadata": {
        "colab": {
          "base_uri": "https://localhost:8080/"
        },
        "id": "ySeyfImBgeuT",
        "outputId": "a19e3a77-1c7e-4a72-f27d-e03fb5e63fd7"
      },
      "execution_count": 24,
      "outputs": [
        {
          "output_type": "execute_result",
          "data": {
            "text/plain": [
              "nan"
            ]
          },
          "metadata": {},
          "execution_count": 24
        }
      ]
    },
    {
      "cell_type": "code",
      "source": [
        "train['age_group'].value_counts()"
      ],
      "metadata": {
        "colab": {
          "base_uri": "https://localhost:8080/",
          "height": 241
        },
        "id": "2SGCzrpjiwXU",
        "outputId": "c80b1409-3b53-4fd6-bf94-d7c3c682537f"
      },
      "execution_count": 25,
      "outputs": [
        {
          "output_type": "execute_result",
          "data": {
            "text/plain": [
              "age_group\n",
              "25-44    2290\n",
              "45-64    1316\n",
              "1-24      590\n",
              "65+       300\n",
              "Name: count, dtype: int64"
            ],
            "text/html": [
              "<div>\n",
              "<style scoped>\n",
              "    .dataframe tbody tr th:only-of-type {\n",
              "        vertical-align: middle;\n",
              "    }\n",
              "\n",
              "    .dataframe tbody tr th {\n",
              "        vertical-align: top;\n",
              "    }\n",
              "\n",
              "    .dataframe thead th {\n",
              "        text-align: right;\n",
              "    }\n",
              "</style>\n",
              "<table border=\"1\" class=\"dataframe\">\n",
              "  <thead>\n",
              "    <tr style=\"text-align: right;\">\n",
              "      <th></th>\n",
              "      <th>count</th>\n",
              "    </tr>\n",
              "    <tr>\n",
              "      <th>age_group</th>\n",
              "      <th></th>\n",
              "    </tr>\n",
              "  </thead>\n",
              "  <tbody>\n",
              "    <tr>\n",
              "      <th>25-44</th>\n",
              "      <td>2290</td>\n",
              "    </tr>\n",
              "    <tr>\n",
              "      <th>45-64</th>\n",
              "      <td>1316</td>\n",
              "    </tr>\n",
              "    <tr>\n",
              "      <th>1-24</th>\n",
              "      <td>590</td>\n",
              "    </tr>\n",
              "    <tr>\n",
              "      <th>65+</th>\n",
              "      <td>300</td>\n",
              "    </tr>\n",
              "  </tbody>\n",
              "</table>\n",
              "</div><br><label><b>dtype:</b> int64</label>"
            ]
          },
          "metadata": {},
          "execution_count": 25
        }
      ]
    },
    {
      "cell_type": "code",
      "source": [
        "## next let us change the age_group column, since it is categorical we will encode it to numerical value.\n",
        "\n",
        "# check for missing values\n",
        "# train['age_group'].isna().sum() ==> 0\n",
        "\n",
        "mp = {'1-24' : 2, '25-44': 4, '45-64': 3, '65+': 1}\n",
        "train['age_group_mp'] = train['age_group'].map(mp)\n",
        "test['age_group_mp'] = test['age_group'].map(mp)\n",
        "train['total_cost'].corr(train['age_group_mp'])\n",
        "numerical_features.append('age_group_mp')"
      ],
      "metadata": {
        "id": "JExGp4HLiVhr"
      },
      "execution_count": 26,
      "outputs": []
    },
    {
      "cell_type": "code",
      "source": [
        "numericals = train[numerical_features]\n",
        "ax = sns.heatmap(numericals.corr(), annot=True, cmap='coolwarm')\n",
        "plt.show()"
      ],
      "metadata": {
        "colab": {
          "base_uri": "https://localhost:8080/",
          "height": 540
        },
        "id": "afHoJ8lOjdu3",
        "outputId": "5cf72ea4-215c-424d-b177-c0c201037245"
      },
      "execution_count": 27,
      "outputs": [
        {
          "output_type": "display_data",
          "data": {
            "text/plain": [
              "<Figure size 640x480 with 2 Axes>"
            ],
            "image/png": "[encoded data removed]"
          },
          "metadata": {}
        }
      ]
    },
    {
      "cell_type": "code",
      "source": [
        "train['purpose'].value_counts()"
      ],
      "metadata": {
        "colab": {
          "base_uri": "https://localhost:8080/",
          "height": 335
        },
        "id": "YHoA1GWAjlES",
        "outputId": "f6786cfc-bc88-46e6-9b3c-2e69a4ccf012"
      },
      "execution_count": 28,
      "outputs": [
        {
          "output_type": "execute_result",
          "data": {
            "text/plain": [
              "purpose\n",
              "Leisure and Holidays              2756\n",
              "Visiting Friends and Relatives     571\n",
              "Business                           563\n",
              "Meetings and Conference            286\n",
              "Volunteering                       134\n",
              "Other                              102\n",
              "Scientific and Academic             84\n",
              "Name: count, dtype: int64"
            ],
            "text/html": [
              "<div>\n",
              "<style scoped>\n",
              "    .dataframe tbody tr th:only-of-type {\n",
              "        vertical-align: middle;\n",
              "    }\n",
              "\n",
              "    .dataframe tbody tr th {\n",
              "        vertical-align: top;\n",
              "    }\n",
              "\n",
              "    .dataframe thead th {\n",
              "        text-align: right;\n",
              "    }\n",
              "</style>\n",
              "<table border=\"1\" class=\"dataframe\">\n",
              "  <thead>\n",
              "    <tr style=\"text-align: right;\">\n",
              "      <th></th>\n",
              "      <th>count</th>\n",
              "    </tr>\n",
              "    <tr>\n",
              "      <th>purpose</th>\n",
              "      <th></th>\n",
              "    </tr>\n",
              "  </thead>\n",
              "  <tbody>\n",
              "    <tr>\n",
              "      <th>Leisure and Holidays</th>\n",
              "      <td>2756</td>\n",
              "    </tr>\n",
              "    <tr>\n",
              "      <th>Visiting Friends and Relatives</th>\n",
              "      <td>571</td>\n",
              "    </tr>\n",
              "    <tr>\n",
              "      <th>Business</th>\n",
              "      <td>563</td>\n",
              "    </tr>\n",
              "    <tr>\n",
              "      <th>Meetings and Conference</th>\n",
              "      <td>286</td>\n",
              "    </tr>\n",
              "    <tr>\n",
              "      <th>Volunteering</th>\n",
              "      <td>134</td>\n",
              "    </tr>\n",
              "    <tr>\n",
              "      <th>Other</th>\n",
              "      <td>102</td>\n",
              "    </tr>\n",
              "    <tr>\n",
              "      <th>Scientific and Academic</th>\n",
              "      <td>84</td>\n",
              "    </tr>\n",
              "  </tbody>\n",
              "</table>\n",
              "</div><br><label><b>dtype:</b> int64</label>"
            ]
          },
          "metadata": {},
          "execution_count": 28
        }
      ]
    },
    {
      "cell_type": "code",
      "source": [
        "train['tour_arrangement'].value_counts()"
      ],
      "metadata": {
        "colab": {
          "base_uri": "https://localhost:8080/",
          "height": 178
        },
        "id": "cV0x-3PaD40Q",
        "outputId": "4a1800a9-0583-4e99-c98e-b4005011a74d"
      },
      "execution_count": 29,
      "outputs": [
        {
          "output_type": "execute_result",
          "data": {
            "text/plain": [
              "tour_arrangement\n",
              "Independent     2325\n",
              "Package Tour    2171\n",
              "Name: count, dtype: int64"
            ],
            "text/html": [
              "<div>\n",
              "<style scoped>\n",
              "    .dataframe tbody tr th:only-of-type {\n",
              "        vertical-align: middle;\n",
              "    }\n",
              "\n",
              "    .dataframe tbody tr th {\n",
              "        vertical-align: top;\n",
              "    }\n",
              "\n",
              "    .dataframe thead th {\n",
              "        text-align: right;\n",
              "    }\n",
              "</style>\n",
              "<table border=\"1\" class=\"dataframe\">\n",
              "  <thead>\n",
              "    <tr style=\"text-align: right;\">\n",
              "      <th></th>\n",
              "      <th>count</th>\n",
              "    </tr>\n",
              "    <tr>\n",
              "      <th>tour_arrangement</th>\n",
              "      <th></th>\n",
              "    </tr>\n",
              "  </thead>\n",
              "  <tbody>\n",
              "    <tr>\n",
              "      <th>Independent</th>\n",
              "      <td>2325</td>\n",
              "    </tr>\n",
              "    <tr>\n",
              "      <th>Package Tour</th>\n",
              "      <td>2171</td>\n",
              "    </tr>\n",
              "  </tbody>\n",
              "</table>\n",
              "</div><br><label><b>dtype:</b> int64</label>"
            ]
          },
          "metadata": {},
          "execution_count": 29
        }
      ]
    },
    {
      "cell_type": "code",
      "source": [
        "relevant = ['country', 'purpose', 'total_people', 'total_night', 'age_group', 'main_activity', 'cnt_package']"
      ],
      "metadata": {
        "trusted": true,
        "execution": {
          "iopub.status.busy": "2024-12-13T08:19:58.869899Z",
          "iopub.execute_input": "2024-12-13T08:19:58.870346Z",
          "iopub.status.idle": "2024-12-13T08:19:58.887751Z",
          "shell.execute_reply.started": "2024-12-13T08:19:58.870309Z",
          "shell.execute_reply": "2024-12-13T08:19:58.886802Z"
        },
        "id": "QwxiEjC__QxW"
      },
      "outputs": [],
      "execution_count": 43
    },
    {
      "cell_type": "code",
      "source": [
        "X_train, X_test, y_train, y_test = train_test_split(train[relevant], train['total_cost'], test_size = 0.18, random_state = 3, shuffle = True)"
      ],
      "metadata": {
        "trusted": true,
        "execution": {
          "iopub.status.busy": "2024-12-13T08:20:02.657396Z",
          "iopub.execute_input": "2024-12-13T08:20:02.657782Z",
          "iopub.status.idle": "2024-12-13T08:20:02.66742Z",
          "shell.execute_reply.started": "2024-12-13T08:20:02.657749Z",
          "shell.execute_reply": "2024-12-13T08:20:02.666539Z"
        },
        "id": "zRLiNZPD_QxX"
      },
      "outputs": [],
      "execution_count": 44
    },
    {
      "cell_type": "code",
      "source": [
        "X_train.isna().sum()\n",
        "for feature in list(relevant):\n",
        "    X_train[feature] = X_train[feature].astype(str)\n",
        "    X_test[feature] = X_test[feature].astype(str)\n",
        "    test[feature] = test[feature].astype(str)"
      ],
      "metadata": {
        "id": "uUkqyz9hoCVa"
      },
      "execution_count": 45,
      "outputs": []
    },
    {
      "cell_type": "code",
      "source": [
        "train_dataset = Pool(data = X_train, label = y_train, cat_features=list(relevant))\n",
        "test_dataset = Pool(data = X_test, label = y_test, cat_features=list(relevant))"
      ],
      "metadata": {
        "trusted": true,
        "execution": {
          "iopub.status.busy": "2024-12-13T08:20:04.974796Z",
          "iopub.execute_input": "2024-12-13T08:20:04.97517Z",
          "iopub.status.idle": "2024-12-13T08:20:05.014077Z",
          "shell.execute_reply.started": "2024-12-13T08:20:04.975137Z",
          "shell.execute_reply": "2024-12-13T08:20:05.01301Z"
        },
        "id": "W1P1BVPi_QxY"
      },
      "outputs": [],
      "execution_count": 46
    },
    {
      "cell_type": "code",
      "source": [
        "cmod = CatBoostRegressor(iterations = 30000,\n",
        "                                   learning_rate=0.01,\n",
        "                                  random_seed = 3, verbose = 500,\n",
        "                         )\n",
        "cmod.fit(train_dataset, eval_set = test_dataset, early_stopping_rounds = 300, use_best_model = True)"
      ],
      "metadata": {
        "trusted": true,
        "execution": {
          "iopub.status.busy": "2024-12-13T08:20:13.164776Z",
          "iopub.execute_input": "2024-12-13T08:20:13.165178Z",
          "iopub.status.idle": "2024-12-13T08:20:21.915393Z",
          "shell.execute_reply.started": "2024-12-13T08:20:13.165143Z",
          "shell.execute_reply": "2024-12-13T08:20:21.914484Z"
        },
        "id": "9UckeybO_QxZ",
        "outputId": "73da82f5-39c0-48e9-ac54-1808be715859",
        "colab": {
          "base_uri": "https://localhost:8080/"
        }
      },
      "outputs": [
        {
          "output_type": "stream",
          "name": "stdout",
          "text": [
            "0:\tlearn: 1.6723119\ttest: 1.6243951\tbest: 1.6243951 (0)\ttotal: 23.4ms\tremaining: 11m 43s\n",
            "500:\tlearn: 1.0684261\ttest: 1.1534041\tbest: 1.1534041 (500)\ttotal: 3.39s\tremaining: 3m 19s\n",
            "1000:\tlearn: 1.0339960\ttest: 1.1508278\tbest: 1.1507997 (999)\ttotal: 8.3s\tremaining: 4m\n",
            "1500:\tlearn: 1.0108287\ttest: 1.1489882\tbest: 1.1489882 (1500)\ttotal: 11.3s\tremaining: 3m 35s\n",
            "2000:\tlearn: 0.9840363\ttest: 1.1464813\tbest: 1.1464813 (2000)\ttotal: 14.5s\tremaining: 3m 22s\n",
            "Stopped by overfitting detector  (300 iterations wait)\n",
            "\n",
            "bestTest = 1.146396552\n",
            "bestIteration = 2010\n",
            "\n",
            "Shrink model to first 2011 iterations.\n"
          ]
        },
        {
          "output_type": "execute_result",
          "data": {
            "text/plain": [
              "<catboost.core.CatBoostRegressor at 0x7bcec0bbdfc0>"
            ]
          },
          "metadata": {},
          "execution_count": 47
        }
      ],
      "execution_count": 47
    },
    {
      "cell_type": "code",
      "source": [
        "testc = cmod.predict(X_test)\n",
        "returned_pred = np.expm1(testc)\n",
        "mean_absolute_error(y_test, returned_pred)"
      ],
      "metadata": {
        "trusted": true,
        "execution": {
          "iopub.status.busy": "2024-12-13T08:26:01.778914Z",
          "iopub.execute_input": "2024-12-13T08:26:01.779325Z",
          "iopub.status.idle": "2024-12-13T08:26:01.794782Z",
          "shell.execute_reply.started": "2024-12-13T08:26:01.779292Z",
          "shell.execute_reply": "2024-12-13T08:26:01.793773Z"
        },
        "id": "23S6-VyA_Qxa",
        "outputId": "f4045ba2-6436-4748-e4ef-c0bdc52b5739",
        "colab": {
          "base_uri": "https://localhost:8080/"
        }
      },
      "outputs": [
        {
          "output_type": "execute_result",
          "data": {
            "text/plain": [
              "5407293.4088146305"
            ]
          },
          "metadata": {},
          "execution_count": 48
        }
      ],
      "execution_count": 48
    },
    {
      "cell_type": "code",
      "source": [
        "mainc = cmod.predict(test[relevant].fillna(''))\n",
        "returned_pred = np.expm1x(mainc)\n",
        "returned_pred"
      ],
      "metadata": {
        "trusted": true,
        "execution": {
          "iopub.status.busy": "2024-12-13T08:27:54.496175Z",
          "iopub.execute_input": "2024-12-13T08:27:54.497083Z",
          "iopub.status.idle": "2024-12-13T08:27:54.52274Z",
          "shell.execute_reply.started": "2024-12-13T08:27:54.497047Z",
          "shell.execute_reply": "2024-12-13T08:27:54.521657Z"
        },
        "id": "CeE7B8t7_Qxa",
        "colab": {
          "base_uri": "https://localhost:8080/"
        },
        "outputId": "c743c259-ac32-4c49-eaca-d1c7943dd3b9"
      },
      "outputs": [
        {
          "output_type": "execute_result",
          "data": {
            "text/plain": [
              "array([18185459.58153415, 11317138.41676139,  6620445.89628911, ...,\n",
              "        2262179.48819545,  1884407.33346484,  3454868.96091497])"
            ]
          },
          "metadata": {},
          "execution_count": 49
        }
      ],
      "execution_count": 49
    },
    {
      "cell_type": "code",
      "source": [
        "ss['total_cost'] = mainc"
      ],
      "metadata": {
        "trusted": true,
        "execution": {
          "iopub.status.busy": "2024-12-13T08:28:23.223125Z",
          "iopub.execute_input": "2024-12-13T08:28:23.223521Z",
          "iopub.status.idle": "2024-12-13T08:28:23.228206Z",
          "shell.execute_reply.started": "2024-12-13T08:28:23.223481Z",
          "shell.execute_reply": "2024-12-13T08:28:23.227308Z"
        },
        "id": "FNhXLZFG_Qxb"
      },
      "outputs": [],
      "execution_count": 50
    },
    {
      "cell_type": "code",
      "source": [
        "ss.to_csv(PATH+'/base_four.csv', index=False)"
      ],
      "metadata": {
        "trusted": true,
        "execution": {
          "iopub.status.busy": "2024-12-13T08:28:29.491483Z",
          "iopub.execute_input": "2024-12-13T08:28:29.491934Z",
          "iopub.status.idle": "2024-12-13T08:28:29.504868Z",
          "shell.execute_reply.started": "2024-12-13T08:28:29.491898Z",
          "shell.execute_reply": "2024-12-13T08:28:29.503739Z"
        },
        "id": "SWmhsgSV_Qxb"
      },
      "outputs": [],
      "execution_count": 51
    },
    {
      "cell_type": "code",
      "source": [],
      "metadata": {
        "id": "bVOSlaJdVywW"
      },
      "execution_count": 38,
      "outputs": []
    }
  ]
}